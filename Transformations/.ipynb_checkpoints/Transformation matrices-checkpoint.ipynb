{
 "cells": [
  {
   "cell_type": "code",
   "execution_count": 4,
   "metadata": {},
   "outputs": [
    {
     "name": "stdout",
     "output_type": "stream",
     "text": [
      "[[ 0.52532199  0.85090352  0.          0.        ]\n",
      " [-0.85090352  0.52532199  0.          0.        ]\n",
      " [ 0.          0.          1.         88.        ]\n",
      " [ 0.          0.          0.          1.        ]]\n",
      "[[ 0.52532199  0.85090352  0.          0.        ]\n",
      " [ 0.          0.         -1.          0.        ]\n",
      " [-0.85090352  0.52532199  0.          0.        ]\n",
      " [ 0.          0.          0.          1.        ]]\n",
      "[[ 0.27596319  0.44699833 -0.85090352  0.        ]\n",
      " [-0.44699833 -0.72403681 -0.52532199  0.        ]\n",
      " [-0.85090352  0.52532199  0.         88.        ]\n",
      " [ 0.          0.          0.          1.        ]]\n",
      "[[ 2.75963192e-01 -4.46998332e-01 -8.50903525e-01  7.48795102e+01]\n",
      " [ 4.46998332e-01 -7.24036808e-01  5.25321989e-01 -4.62283350e+01]\n",
      " [-8.50903525e-01 -5.25321989e-01 -0.00000000e+00 -3.02301659e-15]\n",
      " [ 0.00000000e+00  0.00000000e+00  0.00000000e+00  1.00000000e+00]]\n"
     ]
    }
   ],
   "source": [
    "# Transformation matrices spine -> laser\n",
    "\n",
    "# Reference on top of spine\n",
    "# Intermediate after first servo\n",
    "# laser as b ase of laser\n",
    "# starting from spine...\n",
    "# ....first servo has to be rotation about the vertical axis\n",
    "# ....second servo has to be rotation about a horizontal axis\n",
    "\n",
    "# in mm\n",
    "\n",
    "import numpy as np\n",
    "\n",
    "theta_1 = 45\n",
    "theta_2 = 45\n",
    "\n",
    "T_base_1 = np.array([(np.cos(-theta_1), -np.sin(-theta_1), 0, 0),\n",
    "                        (np.sin(-theta_1), np.cos(-theta_1), 0, 0),\n",
    "                        (0, 0, 1, 88),\n",
    "                        (0, 0, 0, 1)])\n",
    "print(T_base_1)\n",
    "T_1_laser = np.array([(np.cos(-theta_2), -np.sin(-theta_2), 0, 0),\n",
    "                          (0, 0, -1, 0),\n",
    "                          (np.sin(-theta_2), np.cos(-theta_2), 0, 0),\n",
    "                          (0, 0, 0, 1)])\n",
    "print(T_1_laser)\n",
    "T_base_laser = np.matmul(T_base_1,T_1_laser)\n",
    "print(T_base_laser)\n",
    "T_laser_base = np.linalg.inv(T_base_laser)\n",
    "print(T_laser_base)"
   ]
  },
  {
   "cell_type": "code",
   "execution_count": 17,
   "metadata": {},
   "outputs": [],
   "source": [
    "delta_vertikal = 240\n",
    "delta_horizontal = 250\n",
    "\n",
    "#Position = (x,y,z)\n",
    "x = 1\n",
    "y = 1\n",
    "z = 1000\n",
    "\n",
    "#T_laser_base\n"
   ]
  },
  {
   "cell_type": "code",
   "execution_count": 19,
   "metadata": {},
   "outputs": [
    {
     "name": "stdout",
     "output_type": "stream",
     "text": [
      "Matrix([[(sin(theta1)*sin(theta2)**2/(cos(theta1)*cos(theta2)) - sin(theta1)/(cos(theta1)*cos(theta2)))*sin(theta1) - sin(theta2)**2/(cos(theta1)*cos(theta2)) + 1/(cos(theta1)*cos(theta2)), (sin(theta1)*sin(theta2)**2/(cos(theta1)*cos(theta2)) - sin(theta1)/(cos(theta1)*cos(theta2)))*cos(theta1), -sin(theta2), 88*sin(theta2)], [-sin(theta1)**2*sin(theta2)/cos(theta1) + sin(theta2)/cos(theta1), -sin(theta1)*sin(theta2), cos(theta2), -88*cos(theta2)], [-sin(theta1), -cos(theta1), 0, 0], [0, 0, 0, 1]])\n",
      "Matrix([[1], [1], [1000], [0]])\n",
      "Matrix([[-239], [-249], [0], [0]])\n",
      "this should be zero:\n"
     ]
    },
    {
     "data": {
      "image/png": "[encoded data removed]",
      "text/latex": [
       "$$\\left[\\begin{matrix}- \\frac{\\sin^{2}{\\left (\\theta_{1} \\right )} \\cos{\\left (\\theta_{2} \\right )}}{\\cos{\\left (\\theta_{1} \\right )}} - \\sin{\\left (\\theta_{1} \\right )} \\cos{\\left (\\theta_{2} \\right )} - \\frac{\\sin^{2}{\\left (\\theta_{2} \\right )}}{\\cos{\\left (\\theta_{1} \\right )} \\cos{\\left (\\theta_{2} \\right )}} - 1000 \\sin{\\left (\\theta_{2} \\right )} + 239 + \\frac{1}{\\cos{\\left (\\theta_{1} \\right )} \\cos{\\left (\\theta_{2} \\right )}}\\\\- \\sin{\\left (\\theta_{1} \\right )} \\sin{\\left (\\theta_{2} \\right )} + \\sin{\\left (\\theta_{2} \\right )} \\cos{\\left (\\theta_{1} \\right )} + 1000 \\cos{\\left (\\theta_{2} \\right )} + 249\\\\- \\sin{\\left (\\theta_{1} \\right )} - \\cos{\\left (\\theta_{1} \\right )}\\\\0\\end{matrix}\\right]$$"
      ],
      "text/plain": [
       "⎡     2                                        2                              \n",
       "⎢  sin (θ₁)⋅cos(θ₂)                         sin (θ₂)                          \n",
       "⎢- ──────────────── - sin(θ₁)⋅cos(θ₂) - ─────────────── - 1000⋅sin(θ₂) + 239 +\n",
       "⎢      cos(θ₁)                          cos(θ₁)⋅cos(θ₂)                       \n",
       "⎢                                                                             \n",
       "⎢                   -sin(θ₁)⋅sin(θ₂) + sin(θ₂)⋅cos(θ₁) + 1000⋅cos(θ₂) + 249   \n",
       "⎢                                                                             \n",
       "⎢                                     -sin(θ₁) - cos(θ₁)                      \n",
       "⎢                                                                             \n",
       "⎣                                              0                              \n",
       "\n",
       "                ⎤\n",
       "        1       ⎥\n",
       " ───────────────⎥\n",
       " cos(θ₁)⋅cos(θ₂)⎥\n",
       "                ⎥\n",
       "                ⎥\n",
       "                ⎥\n",
       "                ⎥\n",
       "                ⎥\n",
       "                ⎦"
      ]
     },
     "metadata": {},
     "output_type": "display_data"
    }
   ],
   "source": [
    "from IPython.display import display\n",
    "import sympy as sy\n",
    "\n",
    "sy.init_printing()\n",
    "\n",
    "# declaring symbolic variables:\n",
    "theta_1, theta_2 = sy.symbols(\"theta1 theta2\", real=True)\n",
    "\n",
    "# Building matrices and vectors:\n",
    "T_base_1 = sy.Matrix([[sy.cos(-theta_1), -sy.sin(-theta_1), 0, 0],\n",
    "                        [sy.sin(-theta_1), sy.cos(-theta_1), 0, 0],\n",
    "                        [0, 0, 1, 88],\n",
    "                        [0, 0, 0, 1]])\n",
    "#print(T_base_1)\n",
    "T_1_laser = sy.Matrix([[sy.cos(-theta_2), -sy.sin(-theta_2), 0, 0],\n",
    "                          [0, 0, -1, 0],\n",
    "                          [sy.sin(-theta_2), sy.cos(-theta_2), 0, 0],\n",
    "                          [0, 0, 0, 1]])\n",
    "#print(T_1_laser)\n",
    "T_laser_base = T_base_1*T_1_laser\n",
    "T_base_laser = T_laser_base.inv()\n",
    "print(T_base_laser)\n",
    "\n",
    "p_object = sy.Matrix([x,y,z,0])\n",
    "print(p_object)\n",
    "p_laser = p_object - sy.Matrix([delta_vertikal, delta_horizontal, z, 0])\n",
    "print(p_laser)\n",
    "\n",
    "print(\"this should be zero:\")\n",
    "Zero = sy.simplify(T_base_laser*p_object-p_laser)                     \n",
    "\n",
    "display(Zero)\n",
    "\n",
    "sy.solve_linear_system(Zero)\n",
    "\n",
    "#print(\"Vector of Unkowns xx.T = \")\n",
    "#xx = sy.Matrix(list(T_base_laser.atoms(sy.Symbol)))\n",
    "#display(xx.T_base_laser)\n",
    "#print(\"For equation HH.xx = mm, HH = \")\n",
    "#HH = KTM[:2, :].jacobian(xx)  # calculate the derivative for each unknown\n",
    "#display(HH)"
   ]
  },
  {
   "cell_type": "code",
   "execution_count": null,
   "metadata": {},
   "outputs": [],
   "source": []
  }
 ],
 "metadata": {
  "kernelspec": {
   "display_name": "Python 3",
   "language": "python",
   "name": "python3"
  },
  "language_info": {
   "codemirror_mode": {
    "name": "ipython",
    "version": 3
   },
   "file_extension": ".py",
   "mimetype": "text/x-python",
   "name": "python",
   "nbconvert_exporter": "python",
   "pygments_lexer": "ipython3",
   "version": "3.5.2"
  }
 },
 "nbformat": 4,
 "nbformat_minor": 2
}
