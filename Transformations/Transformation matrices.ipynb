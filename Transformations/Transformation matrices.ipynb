{
 "cells": [
  {
   "cell_type": "code",
   "execution_count": 7,
   "metadata": {},
   "outputs": [
    {
     "name": "stdout",
     "output_type": "stream",
     "text": [
      "[[ 0.52532199 -0.85090352  0.          0.3       ]\n",
      " [ 0.85090352  0.52532199  0.          0.        ]\n",
      " [ 0.          0.          1.          0.1       ]\n",
      " [ 0.          0.          0.          1.        ]]\n",
      "[[ 0.52532199 -0.85090352  0.          0.        ]\n",
      " [ 0.          0.          1.          0.        ]\n",
      " [-0.85090352 -0.52532199 -1.          0.        ]\n",
      " [ 0.          0.          0.          1.        ]]\n",
      "[[ 0.27596319 -0.44699833 -0.85090352  0.3       ]\n",
      " [ 0.44699833 -0.72403681  0.52532199  0.        ]\n",
      " [-0.85090352 -0.52532199 -1.          0.1       ]\n",
      " [ 0.          0.          0.          1.        ]]\n"
     ]
    }
   ],
   "source": [
    "# Transformation matrices spine -> laser\n",
    "\n",
    "# Reference on top of spine\n",
    "# Intermediate after first servo\n",
    "# laser as b ase of laser\n",
    "# starting from spine...\n",
    "# ....first servo has to be rotation about the vertical axis\n",
    "# ....second servo has to be rotation about a horizontal axis\n",
    "\n",
    "import numpy as np\n",
    "\n",
    "theta_1 = 45\n",
    "theta_2 = 45\n",
    "delta_X_shoulder = 0.3\n",
    "delta_Z_shoulder = 0.1\n",
    "\n",
    "T_ref_interm = np.array([(np.cos(theta_1), -np.sin(theta_1), 0, delta_X_shoulder),\n",
    "                        (np.sin(theta_1), np.cos(theta_1), 0, 0),\n",
    "                        (0, 0, 1, delta_Z_shoulder),\n",
    "                        (0, 0, 0, 1)])\n",
    "print(T_ref_interm)\n",
    "T_interm_laser = np.array([(np.cos(theta_2), -np.sin(theta_2), 0, 0),\n",
    "                          (0, 0, 1, 0),\n",
    "                          (-np.sin(theta_2), -np.cos(theta_2), -1, 0),\n",
    "                          (0, 0, 0, 1)])\n",
    "print(T_interm_laser)\n",
    "T_ref_laser = np.matmul(T_ref_interm,T_interm_laser)\n",
    "print(T_ref_laser)"
   ]
  },
  {
   "cell_type": "code",
   "execution_count": null,
   "metadata": {},
   "outputs": [],
   "source": []
  }
 ],
 "metadata": {
  "kernelspec": {
   "display_name": "Python 3",
   "language": "python",
   "name": "python3"
  },
  "language_info": {
   "codemirror_mode": {
    "name": "ipython",
    "version": 3
   },
   "file_extension": ".py",
   "mimetype": "text/x-python",
   "name": "python",
   "nbconvert_exporter": "python",
   "pygments_lexer": "ipython3",
   "version": "3.5.2"
  }
 },
 "nbformat": 4,
 "nbformat_minor": 2
}
