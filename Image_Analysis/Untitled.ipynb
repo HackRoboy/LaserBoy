{
 "cells": [
  {
   "cell_type": "code",
   "execution_count": null,
   "metadata": {},
   "outputs": [],
   "source": [
    "import cv2\n",
    "import numpy as np\n",
    "\n",
    "\n",
    "\n",
    "while(1):\n",
    "    frame = cv2.imread('plane.jpg')\n",
    "    #img2 = img.astype(np.float32)\n",
    "    #print(img2.dtype)\n",
    "\n",
    "    hsv = cv2.cvtColor(frame, cv2.COLOR_BGR2HSV)\n",
    "\n",
    "    lower = np.array([0,100,200])\n",
    "    upper = np.array([30,255,255])\n",
    "\n",
    "    mask = cv2.inRange(hsv, lower, upper)\n",
    "\n",
    "    res = cv2.bitwise_and(frame,frame, mask= mask)\n",
    "\n",
    "    cv2.namedWindow('frame',cv2.WINDOW_NORMAL)\n",
    "    cv2.resizeWindow('frame', 600,600)\n",
    "    \n",
    "    cv2.namedWindow('res',cv2.WINDOW_NORMAL)\n",
    "    cv2.resizeWindow('res', 600,600)\n",
    "\n",
    "    cv2.imshow('frame',frame)\n",
    "    #cv2.imshow('mask',mask)\n",
    "    cv2.imshow('res',res)\n",
    "\n",
    "    k = cv2.waitKey(5) & 0xFF\n",
    "    if k == 27:\n",
    "        break\n",
    "\n",
    "cv2.destroyAllWindows()\n",
    "\n",
    "#cv2.namedWindow('image', cv2.WINDOW_NORMAL)\n",
    "#cv2.imshow('image',img)\n",
    "#cv2.waitKey(5000)\n",
    "#cv2.destroyAllWindows()\n",
    "\n",
    "#cv2.namedWindow('image', cv2.WINDOW_NORMAL)\n",
    "#cv2.imshow('image',hsv)\n",
    "#cv2.waitKey(5000)\n",
    "#cv2.destroyAllWindows()"
   ]
  }
 ],
 "metadata": {
  "kernelspec": {
   "display_name": "Python 3",
   "language": "python",
   "name": "python3"
  },
  "language_info": {
   "codemirror_mode": {
    "name": "ipython",
    "version": 3
   },
   "file_extension": ".py",
   "mimetype": "text/x-python",
   "name": "python",
   "nbconvert_exporter": "python",
   "pygments_lexer": "ipython3",
   "version": "3.5.2"
  }
 },
 "nbformat": 4,
 "nbformat_minor": 2
}
