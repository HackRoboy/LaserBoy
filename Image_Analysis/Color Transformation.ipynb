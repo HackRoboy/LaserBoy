{
 "cells": [
  {
   "cell_type": "code",
   "execution_count": 1,
   "metadata": {},
   "outputs": [],
   "source": [
    "# recieves input image\n",
    "# R,G,B in range of 0-255?!\n",
    "# iterate for every pixel"
   ]
  },
  {
   "cell_type": "code",
   "execution_count": null,
   "metadata": {},
   "outputs": [],
   "source": [
    "# initialize\n",
    "M = max (R,G,B)\n",
    "N = min(R,G,B)\n",
    "C = M-N\n",
    "V = M"
   ]
  },
  {
   "cell_type": "code",
   "execution_count": null,
   "metadata": {},
   "outputs": [],
   "source": [
    "# H  60 is in degrees\n",
    "if C = 0:\n",
    "    H = 0\n",
    "else if R = M:\n",
    "    H = 60*(G-B)/C\n",
    "else if G = M:\n",
    "    H = 60*(2+B-R)/C\n",
    "else if B = M:\n",
    "    H = 60*(4+R-G)/C"
   ]
  },
  {
   "cell_type": "code",
   "execution_count": null,
   "metadata": {},
   "outputs": [],
   "source": [
    "# S\n",
    "if C = 0:\n",
    "    S = 0\n",
    "else:\n",
    "    S = C/V"
   ]
  },
  {
   "cell_type": "code",
   "execution_count": null,
   "metadata": {},
   "outputs": [],
   "source": [
    "# find relevant areas of color \n"
   ]
  },
  {
   "cell_type": "code",
   "execution_count": null,
   "metadata": {},
   "outputs": [],
   "source": [
    "# calculate RGB values from HSV 60 is in degrees\n",
    "# iterate over every pixel\n",
    "\n",
    "C = S*V\n",
    "N = V-C\n",
    "HH = H/60\n",
    "X = C(1-abs(HH*mod(2)-1))\n",
    "\n",
    "if S = 0:\n",
    "    (R,G,B) = (N,N,N)\n",
    "else if 0<=HH<1:\n",
    "    (R,G,B) = (C+N,X+N,N)\n",
    "else if 1<=HH<2:\n",
    "    (R,G,B) = (X+N,C+N,N)\n",
    "else if 2<=HH<3:\n",
    "    (R,G,B) = (N,C+N,X+N)\n",
    "else if 3<=HH<4:\n",
    "    (R,G,B) = (N,X+N,C+N)\n",
    "else if 4<=HH<5:\n",
    "    (R,G,B) = (X+N,N,C+N)\n",
    "else if 5<=HH<6:\n",
    "    (R,G,B) = (C+N,N,X+N)\n",
    "    "
   ]
  }
 ],
 "metadata": {
  "kernelspec": {
   "display_name": "Python 3",
   "language": "python",
   "name": "python3"
  },
  "language_info": {
   "codemirror_mode": {
    "name": "ipython",
    "version": 3
   },
   "file_extension": ".py",
   "mimetype": "text/x-python",
   "name": "python",
   "nbconvert_exporter": "python",
   "pygments_lexer": "ipython3",
   "version": "3.5.2"
  }
 },
 "nbformat": 4,
 "nbformat_minor": 2
}
